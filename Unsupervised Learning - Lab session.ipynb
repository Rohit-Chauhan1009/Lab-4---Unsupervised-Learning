{
 "cells": [
  {
   "cell_type": "markdown",
   "id": "83f26a29",
   "metadata": {
    "id": "83f26a29"
   },
   "source": [
    "# Unsupervised Lab Session"
   ]
  },
  {
   "cell_type": "markdown",
   "id": "8ea571d1",
   "metadata": {
    "id": "8ea571d1"
   },
   "source": [
    "## Learning outcomes:\n",
    "- Exploratory data analysis and data preparation for model building.\n",
    "- PCA for dimensionality reduction.\n",
    "- K-means and Agglomerative Clustering"
   ]
  },
  {
   "cell_type": "markdown",
   "id": "fd7f778a",
   "metadata": {
    "id": "fd7f778a"
   },
   "source": [
    "## Problem Statement\n",
    "Based on the given marketing campigan dataset, segment the similar customers into suitable clusters. Analyze the clusters and provide your insights to help the organization promote their business."
   ]
  },
  {
   "cell_type": "markdown",
   "id": "33b58f8f",
   "metadata": {
    "id": "33b58f8f"
   },
   "source": [
    "## Context:\n",
    "- Customer Personality Analysis is a detailed analysis of a company’s ideal customers. It helps a business to better understand its customers and makes it easier for them to modify products according to the specific needs, behaviors and concerns of different types of customers.\n",
    "- Customer personality analysis helps a business to modify its product based on its target customers from different types of customer segments. For example, instead of spending money to market a new product to every customer in the company’s database, a company can analyze which customer segment is most likely to buy the product and then market the product only on that particular segment."
   ]
  },
  {
   "cell_type": "markdown",
   "id": "867166aa",
   "metadata": {
    "id": "867166aa"
   },
   "source": [
    "## About dataset\n",
    "- Source: https://www.kaggle.com/datasets/imakash3011/customer-personality-analysis?datasetId=1546318&sortBy=voteCount\n",
    "\n",
    "### Attribute Information:\n",
    "- ID: Customer's unique identifier\n",
    "- Year_Birth: Customer's birth year\n",
    "- Education: Customer's education level\n",
    "- Marital_Status: Customer's marital status\n",
    "- Income: Customer's yearly household income\n",
    "- Kidhome: Number of children in customer's household\n",
    "- Teenhome: Number of teenagers in customer's household\n",
    "- Dt_Customer: Date of customer's enrollment with the company\n",
    "- Recency: Number of days since customer's last purchase\n",
    "- Complain: 1 if the customer complained in the last 2 years, 0 otherwise\n",
    "- MntWines: Amount spent on wine in last 2 years\n",
    "- MntFruits: Amount spent on fruits in last 2 years\n",
    "- MntMeatProducts: Amount spent on meat in last 2 years\n",
    "- MntFishProducts: Amount spent on fish in last 2 years\n",
    "- MntSweetProducts: Amount spent on sweets in last 2 years\n",
    "- MntGoldProds: Amount spent on gold in last 2 years\n",
    "- NumDealsPurchases: Number of purchases made with a discount\n",
    "- AcceptedCmp1: 1 if customer accepted the offer in the 1st campaign, 0 otherwise\n",
    "- AcceptedCmp2: 1 if customer accepted the offer in the 2nd campaign, 0 otherwise\n",
    "- AcceptedCmp3: 1 if customer accepted the offer in the 3rd campaign, 0 otherwise\n",
    "- AcceptedCmp4: 1 if customer accepted the offer in the 4th campaign, 0 otherwise\n",
    "- AcceptedCmp5: 1 if customer accepted the offer in the 5th campaign, 0 otherwise\n",
    "- Response: 1 if customer accepted the offer in the last campaign, 0 otherwise\n",
    "- NumWebPurchases: Number of purchases made through the company’s website\n",
    "- NumCatalogPurchases: Number of purchases made using a catalogue\n",
    "- NumStorePurchases: Number of purchases made directly in stores\n",
    "- NumWebVisitsMonth: Number of visits to company’s website in the last month"
   ]
  },
  {
   "cell_type": "markdown",
   "id": "5a830406",
   "metadata": {
    "id": "5a830406"
   },
   "source": [
    "### 1. Import required libraries"
   ]
  },
  {
   "cell_type": "code",
   "execution_count": 55,
   "id": "d65c5528",
   "metadata": {
    "id": "d65c5528"
   },
   "outputs": [],
   "source": [
    "import pandas as pd\n",
    "import numpy as np\n",
    "import matplotlib.pyplot as plt\n",
    "import seaborn as sns\n",
    "from scipy.cluster.hierarchy import dendrogram, linkage\n",
    "\n",
    "from sklearn.preprocessing import StandardScaler\n",
    "from sklearn.decomposition import PCA\n",
    "from sklearn.cluster import KMeans, AgglomerativeClustering\n",
    "from sklearn.metrics import silhouette_score\n",
    "from sklearn.preprocessing import LabelEncoder\n",
    "\n",
    "import warnings\n",
    "warnings.filterwarnings('ignore')"
   ]
  },
  {
   "cell_type": "markdown",
   "id": "c80eb960",
   "metadata": {
    "id": "c80eb960"
   },
   "source": [
    "### 2. Load the CSV file (i.e marketing.csv) and display the first 5 rows of the dataframe. Check the shape and info of the dataset."
   ]
  },
  {
   "cell_type": "code",
   "execution_count": 2,
   "id": "1caebc10",
   "metadata": {
    "id": "1caebc10"
   },
   "outputs": [
    {
     "data": {
      "text/html": [
       "<div>\n",
       "<style scoped>\n",
       "    .dataframe tbody tr th:only-of-type {\n",
       "        vertical-align: middle;\n",
       "    }\n",
       "\n",
       "    .dataframe tbody tr th {\n",
       "        vertical-align: top;\n",
       "    }\n",
       "\n",
       "    .dataframe thead th {\n",
       "        text-align: right;\n",
       "    }\n",
       "</style>\n",
       "<table border=\"1\" class=\"dataframe\">\n",
       "  <thead>\n",
       "    <tr style=\"text-align: right;\">\n",
       "      <th></th>\n",
       "      <th>ID</th>\n",
       "      <th>Year_Birth</th>\n",
       "      <th>Education</th>\n",
       "      <th>Marital_Status</th>\n",
       "      <th>Income</th>\n",
       "      <th>Kidhome</th>\n",
       "      <th>Teenhome</th>\n",
       "      <th>Dt_Customer</th>\n",
       "      <th>Recency</th>\n",
       "      <th>MntWines</th>\n",
       "      <th>...</th>\n",
       "      <th>NumCatalogPurchases</th>\n",
       "      <th>NumStorePurchases</th>\n",
       "      <th>NumWebVisitsMonth</th>\n",
       "      <th>AcceptedCmp3</th>\n",
       "      <th>AcceptedCmp4</th>\n",
       "      <th>AcceptedCmp5</th>\n",
       "      <th>AcceptedCmp1</th>\n",
       "      <th>AcceptedCmp2</th>\n",
       "      <th>Complain</th>\n",
       "      <th>Response</th>\n",
       "    </tr>\n",
       "  </thead>\n",
       "  <tbody>\n",
       "    <tr>\n",
       "      <th>0</th>\n",
       "      <td>5524</td>\n",
       "      <td>1957</td>\n",
       "      <td>Graduation</td>\n",
       "      <td>Single</td>\n",
       "      <td>58138.0</td>\n",
       "      <td>0</td>\n",
       "      <td>0</td>\n",
       "      <td>4/9/2012</td>\n",
       "      <td>58</td>\n",
       "      <td>635</td>\n",
       "      <td>...</td>\n",
       "      <td>10</td>\n",
       "      <td>4</td>\n",
       "      <td>7</td>\n",
       "      <td>0</td>\n",
       "      <td>0</td>\n",
       "      <td>0</td>\n",
       "      <td>0</td>\n",
       "      <td>0</td>\n",
       "      <td>0</td>\n",
       "      <td>1</td>\n",
       "    </tr>\n",
       "    <tr>\n",
       "      <th>1</th>\n",
       "      <td>2174</td>\n",
       "      <td>1954</td>\n",
       "      <td>Graduation</td>\n",
       "      <td>Single</td>\n",
       "      <td>46344.0</td>\n",
       "      <td>1</td>\n",
       "      <td>1</td>\n",
       "      <td>8/3/2014</td>\n",
       "      <td>38</td>\n",
       "      <td>11</td>\n",
       "      <td>...</td>\n",
       "      <td>1</td>\n",
       "      <td>2</td>\n",
       "      <td>5</td>\n",
       "      <td>0</td>\n",
       "      <td>0</td>\n",
       "      <td>0</td>\n",
       "      <td>0</td>\n",
       "      <td>0</td>\n",
       "      <td>0</td>\n",
       "      <td>0</td>\n",
       "    </tr>\n",
       "    <tr>\n",
       "      <th>2</th>\n",
       "      <td>4141</td>\n",
       "      <td>1965</td>\n",
       "      <td>Graduation</td>\n",
       "      <td>Together</td>\n",
       "      <td>71613.0</td>\n",
       "      <td>0</td>\n",
       "      <td>0</td>\n",
       "      <td>21-08-2013</td>\n",
       "      <td>26</td>\n",
       "      <td>426</td>\n",
       "      <td>...</td>\n",
       "      <td>2</td>\n",
       "      <td>10</td>\n",
       "      <td>4</td>\n",
       "      <td>0</td>\n",
       "      <td>0</td>\n",
       "      <td>0</td>\n",
       "      <td>0</td>\n",
       "      <td>0</td>\n",
       "      <td>0</td>\n",
       "      <td>0</td>\n",
       "    </tr>\n",
       "    <tr>\n",
       "      <th>3</th>\n",
       "      <td>6182</td>\n",
       "      <td>1984</td>\n",
       "      <td>Graduation</td>\n",
       "      <td>Together</td>\n",
       "      <td>26646.0</td>\n",
       "      <td>1</td>\n",
       "      <td>0</td>\n",
       "      <td>10/2/2014</td>\n",
       "      <td>26</td>\n",
       "      <td>11</td>\n",
       "      <td>...</td>\n",
       "      <td>0</td>\n",
       "      <td>4</td>\n",
       "      <td>6</td>\n",
       "      <td>0</td>\n",
       "      <td>0</td>\n",
       "      <td>0</td>\n",
       "      <td>0</td>\n",
       "      <td>0</td>\n",
       "      <td>0</td>\n",
       "      <td>0</td>\n",
       "    </tr>\n",
       "    <tr>\n",
       "      <th>4</th>\n",
       "      <td>5324</td>\n",
       "      <td>1981</td>\n",
       "      <td>PhD</td>\n",
       "      <td>Married</td>\n",
       "      <td>58293.0</td>\n",
       "      <td>1</td>\n",
       "      <td>0</td>\n",
       "      <td>19-01-2014</td>\n",
       "      <td>94</td>\n",
       "      <td>173</td>\n",
       "      <td>...</td>\n",
       "      <td>3</td>\n",
       "      <td>6</td>\n",
       "      <td>5</td>\n",
       "      <td>0</td>\n",
       "      <td>0</td>\n",
       "      <td>0</td>\n",
       "      <td>0</td>\n",
       "      <td>0</td>\n",
       "      <td>0</td>\n",
       "      <td>0</td>\n",
       "    </tr>\n",
       "  </tbody>\n",
       "</table>\n",
       "<p>5 rows × 27 columns</p>\n",
       "</div>"
      ],
      "text/plain": [
       "     ID  Year_Birth   Education Marital_Status   Income  Kidhome  Teenhome  \\\n",
       "0  5524        1957  Graduation         Single  58138.0        0         0   \n",
       "1  2174        1954  Graduation         Single  46344.0        1         1   \n",
       "2  4141        1965  Graduation       Together  71613.0        0         0   \n",
       "3  6182        1984  Graduation       Together  26646.0        1         0   \n",
       "4  5324        1981         PhD        Married  58293.0        1         0   \n",
       "\n",
       "  Dt_Customer  Recency  MntWines  ...  NumCatalogPurchases  NumStorePurchases  \\\n",
       "0    4/9/2012       58       635  ...                   10                  4   \n",
       "1    8/3/2014       38        11  ...                    1                  2   \n",
       "2  21-08-2013       26       426  ...                    2                 10   \n",
       "3   10/2/2014       26        11  ...                    0                  4   \n",
       "4  19-01-2014       94       173  ...                    3                  6   \n",
       "\n",
       "   NumWebVisitsMonth  AcceptedCmp3  AcceptedCmp4  AcceptedCmp5  AcceptedCmp1  \\\n",
       "0                  7             0             0             0             0   \n",
       "1                  5             0             0             0             0   \n",
       "2                  4             0             0             0             0   \n",
       "3                  6             0             0             0             0   \n",
       "4                  5             0             0             0             0   \n",
       "\n",
       "   AcceptedCmp2  Complain  Response  \n",
       "0             0         0         1  \n",
       "1             0         0         0  \n",
       "2             0         0         0  \n",
       "3             0         0         0  \n",
       "4             0         0         0  \n",
       "\n",
       "[5 rows x 27 columns]"
      ]
     },
     "execution_count": 2,
     "metadata": {},
     "output_type": "execute_result"
    }
   ],
   "source": [
    "df = pd.read_csv('marketing.csv')\n",
    "df.head(5)"
   ]
  },
  {
   "cell_type": "code",
   "execution_count": 3,
   "id": "31add9ca-855b-4ca1-b186-6de2365d9005",
   "metadata": {},
   "outputs": [
    {
     "data": {
      "text/plain": [
       "(2240, 27)"
      ]
     },
     "execution_count": 3,
     "metadata": {},
     "output_type": "execute_result"
    }
   ],
   "source": [
    "df.shape"
   ]
  },
  {
   "cell_type": "code",
   "execution_count": 4,
   "id": "323b0a64-5dd1-44b1-a808-84f1025f867b",
   "metadata": {},
   "outputs": [
    {
     "name": "stdout",
     "output_type": "stream",
     "text": [
      "<class 'pandas.core.frame.DataFrame'>\n",
      "RangeIndex: 2240 entries, 0 to 2239\n",
      "Data columns (total 27 columns):\n",
      " #   Column               Non-Null Count  Dtype  \n",
      "---  ------               --------------  -----  \n",
      " 0   ID                   2240 non-null   int64  \n",
      " 1   Year_Birth           2240 non-null   int64  \n",
      " 2   Education            2240 non-null   object \n",
      " 3   Marital_Status       2240 non-null   object \n",
      " 4   Income               2216 non-null   float64\n",
      " 5   Kidhome              2240 non-null   int64  \n",
      " 6   Teenhome             2240 non-null   int64  \n",
      " 7   Dt_Customer          2240 non-null   object \n",
      " 8   Recency              2240 non-null   int64  \n",
      " 9   MntWines             2240 non-null   int64  \n",
      " 10  MntFruits            2240 non-null   int64  \n",
      " 11  MntMeatProducts      2240 non-null   int64  \n",
      " 12  MntFishProducts      2240 non-null   int64  \n",
      " 13  MntSweetProducts     2240 non-null   int64  \n",
      " 14  MntGoldProds         2240 non-null   int64  \n",
      " 15  NumDealsPurchases    2240 non-null   int64  \n",
      " 16  NumWebPurchases      2240 non-null   int64  \n",
      " 17  NumCatalogPurchases  2240 non-null   int64  \n",
      " 18  NumStorePurchases    2240 non-null   int64  \n",
      " 19  NumWebVisitsMonth    2240 non-null   int64  \n",
      " 20  AcceptedCmp3         2240 non-null   int64  \n",
      " 21  AcceptedCmp4         2240 non-null   int64  \n",
      " 22  AcceptedCmp5         2240 non-null   int64  \n",
      " 23  AcceptedCmp1         2240 non-null   int64  \n",
      " 24  AcceptedCmp2         2240 non-null   int64  \n",
      " 25  Complain             2240 non-null   int64  \n",
      " 26  Response             2240 non-null   int64  \n",
      "dtypes: float64(1), int64(23), object(3)\n",
      "memory usage: 472.6+ KB\n"
     ]
    }
   ],
   "source": [
    "df.info()"
   ]
  },
  {
   "cell_type": "markdown",
   "id": "9ef75724",
   "metadata": {
    "id": "9ef75724"
   },
   "source": [
    "### 3. Check the percentage of missing values? If there is presence of missing values, treat them accordingly."
   ]
  },
  {
   "cell_type": "code",
   "execution_count": 5,
   "id": "f2c231df",
   "metadata": {
    "id": "f2c231df"
   },
   "outputs": [
    {
     "data": {
      "text/plain": [
       "ID                     0.000000\n",
       "Year_Birth             0.000000\n",
       "Education              0.000000\n",
       "Marital_Status         0.000000\n",
       "Income                 1.071429\n",
       "Kidhome                0.000000\n",
       "Teenhome               0.000000\n",
       "Dt_Customer            0.000000\n",
       "Recency                0.000000\n",
       "MntWines               0.000000\n",
       "MntFruits              0.000000\n",
       "MntMeatProducts        0.000000\n",
       "MntFishProducts        0.000000\n",
       "MntSweetProducts       0.000000\n",
       "MntGoldProds           0.000000\n",
       "NumDealsPurchases      0.000000\n",
       "NumWebPurchases        0.000000\n",
       "NumCatalogPurchases    0.000000\n",
       "NumStorePurchases      0.000000\n",
       "NumWebVisitsMonth      0.000000\n",
       "AcceptedCmp3           0.000000\n",
       "AcceptedCmp4           0.000000\n",
       "AcceptedCmp5           0.000000\n",
       "AcceptedCmp1           0.000000\n",
       "AcceptedCmp2           0.000000\n",
       "Complain               0.000000\n",
       "Response               0.000000\n",
       "dtype: float64"
      ]
     },
     "execution_count": 5,
     "metadata": {},
     "output_type": "execute_result"
    }
   ],
   "source": [
    "df.isnull().sum()/len(df)*100"
   ]
  },
  {
   "cell_type": "code",
   "execution_count": 6,
   "id": "e1abc6ca-72db-4594-b82a-386eaf2bb584",
   "metadata": {},
   "outputs": [
    {
     "data": {
      "text/plain": [
       "ID                     0\n",
       "Year_Birth             0\n",
       "Education              0\n",
       "Marital_Status         0\n",
       "Income                 0\n",
       "Kidhome                0\n",
       "Teenhome               0\n",
       "Dt_Customer            0\n",
       "Recency                0\n",
       "MntWines               0\n",
       "MntFruits              0\n",
       "MntMeatProducts        0\n",
       "MntFishProducts        0\n",
       "MntSweetProducts       0\n",
       "MntGoldProds           0\n",
       "NumDealsPurchases      0\n",
       "NumWebPurchases        0\n",
       "NumCatalogPurchases    0\n",
       "NumStorePurchases      0\n",
       "NumWebVisitsMonth      0\n",
       "AcceptedCmp3           0\n",
       "AcceptedCmp4           0\n",
       "AcceptedCmp5           0\n",
       "AcceptedCmp1           0\n",
       "AcceptedCmp2           0\n",
       "Complain               0\n",
       "Response               0\n",
       "dtype: int64"
      ]
     },
     "execution_count": 6,
     "metadata": {},
     "output_type": "execute_result"
    }
   ],
   "source": [
    "df['Income'] =df['Income'].fillna(df['Income'].mean())\n",
    "\n",
    "df.isnull().sum()"
   ]
  },
  {
   "cell_type": "markdown",
   "id": "86f3709e",
   "metadata": {
    "id": "86f3709e"
   },
   "source": [
    "### 4. Check if there are any duplicate records in the dataset? If any drop them."
   ]
  },
  {
   "cell_type": "code",
   "execution_count": 7,
   "id": "2970671a",
   "metadata": {
    "id": "2970671a"
   },
   "outputs": [
    {
     "data": {
      "text/plain": [
       "0"
      ]
     },
     "execution_count": 7,
     "metadata": {},
     "output_type": "execute_result"
    }
   ],
   "source": [
    "len(df[df.duplicated()])"
   ]
  },
  {
   "cell_type": "markdown",
   "id": "3a6f2b5a",
   "metadata": {
    "id": "3a6f2b5a"
   },
   "source": [
    "### 5. Drop the columns which you think redundant for the analysis "
   ]
  },
  {
   "cell_type": "code",
   "execution_count": 8,
   "id": "a9ca818b",
   "metadata": {
    "id": "a9ca818b"
   },
   "outputs": [],
   "source": [
    "df = df.drop(columns=['ID', 'Dt_Customer'])"
   ]
  },
  {
   "cell_type": "markdown",
   "id": "4ff0a112",
   "metadata": {
    "id": "4ff0a112"
   },
   "source": [
    "### 6. Check the unique categories in the column 'Marital_Status'\n",
    "- i) Group categories 'Married', 'Together' as 'relationship'\n",
    "- ii) Group categories 'Divorced', 'Widow', 'Alone', 'YOLO', and 'Absurd' as 'Single'."
   ]
  },
  {
   "cell_type": "code",
   "execution_count": 9,
   "id": "eb1be519",
   "metadata": {
    "id": "eb1be519"
   },
   "outputs": [
    {
     "name": "stdout",
     "output_type": "stream",
     "text": [
      "['Single' 'Together' 'Married' 'Divorced' 'Widow' 'Alone' 'Absurd' 'YOLO']\n"
     ]
    }
   ],
   "source": [
    "print(df['Marital_Status'].unique())"
   ]
  },
  {
   "cell_type": "code",
   "execution_count": 11,
   "id": "1e99d075-ce8d-4df5-8278-741ace6fec89",
   "metadata": {},
   "outputs": [
    {
     "data": {
      "text/plain": [
       "Marital_Status\n",
       "Married     864\n",
       "Together    580\n",
       "Single      480\n",
       "Divorced    232\n",
       "Widow        77\n",
       "Alone         3\n",
       "Absurd        2\n",
       "YOLO          2\n",
       "Name: count, dtype: int64"
      ]
     },
     "execution_count": 11,
     "metadata": {},
     "output_type": "execute_result"
    }
   ],
   "source": [
    "df['Marital_Status'].value_counts()"
   ]
  },
  {
   "cell_type": "code",
   "execution_count": 12,
   "id": "302afbe9-f808-4ecc-a099-2eea0cacee8a",
   "metadata": {},
   "outputs": [],
   "source": [
    "df['Marital_Status'] = df['Marital_Status'].replace(['Married', 'Together'], 'relationship')\n",
    "                                                     \n",
    "df['Marital_Status'] = df['Marital_Status'].replace(['Divorced', 'Widow', 'Alone', 'YOLO', 'Absurd'], 'Single')"
   ]
  },
  {
   "cell_type": "code",
   "execution_count": 13,
   "id": "005a5e43-2d67-41f0-8230-fa9fe35af4e6",
   "metadata": {},
   "outputs": [
    {
     "name": "stdout",
     "output_type": "stream",
     "text": [
      "['Single' 'relationship']\n"
     ]
    }
   ],
   "source": [
    "print(df['Marital_Status'].unique())"
   ]
  },
  {
   "cell_type": "code",
   "execution_count": 14,
   "id": "aa87b285-6e13-4a2d-a9e1-8d2d4e3c6b69",
   "metadata": {},
   "outputs": [
    {
     "data": {
      "text/plain": [
       "Marital_Status\n",
       "relationship    1444\n",
       "Single           796\n",
       "Name: count, dtype: int64"
      ]
     },
     "execution_count": 14,
     "metadata": {},
     "output_type": "execute_result"
    }
   ],
   "source": [
    "df['Marital_Status'].value_counts()"
   ]
  },
  {
   "cell_type": "markdown",
   "id": "9566bfbe",
   "metadata": {
    "id": "9566bfbe"
   },
   "source": [
    "### 7. Group the columns 'MntWines', 'MntFruits', 'MntMeatProducts', 'MntFishProducts', 'MntSweetProducts', and 'MntGoldProds' as 'Total_Expenses'"
   ]
  },
  {
   "cell_type": "code",
   "execution_count": 15,
   "id": "e9a4eeb5-f794-41c7-9a5f-5ec4dc8d431d",
   "metadata": {},
   "outputs": [],
   "source": [
    "df['Total_Expenses'] = df[['MntWines', 'MntFruits', 'MntMeatProducts', 'MntFishProducts', 'MntSweetProducts', 'MntGoldProds']].sum(axis=1)"
   ]
  },
  {
   "cell_type": "code",
   "execution_count": 16,
   "id": "ed03467a-f3de-40d8-be5a-e40c89df6106",
   "metadata": {},
   "outputs": [
    {
     "data": {
      "text/plain": [
       "0    1617\n",
       "1      27\n",
       "2     776\n",
       "3      53\n",
       "4     422\n",
       "Name: Total_Expenses, dtype: int64"
      ]
     },
     "execution_count": 16,
     "metadata": {},
     "output_type": "execute_result"
    }
   ],
   "source": [
    "df['Total_Expenses'].head(5)"
   ]
  },
  {
   "cell_type": "markdown",
   "id": "bf0cd083",
   "metadata": {
    "id": "bf0cd083"
   },
   "source": [
    "### 8. Group the columns 'NumWebPurchases', 'NumCatalogPurchases', 'NumStorePurchases', and 'NumDealsPurchases' as 'Num_Total_Purchases'"
   ]
  },
  {
   "cell_type": "code",
   "execution_count": 17,
   "id": "9c535ede",
   "metadata": {
    "id": "9c535ede"
   },
   "outputs": [],
   "source": [
    "df['Num_Total_Purchases'] = df[['NumWebPurchases', 'NumCatalogPurchases', 'NumStorePurchases', 'NumDealsPurchases']].sum(axis=1)"
   ]
  },
  {
   "cell_type": "code",
   "execution_count": 18,
   "id": "20e9429b-4cef-4279-b892-672cbaf893d1",
   "metadata": {},
   "outputs": [
    {
     "data": {
      "text/plain": [
       "0    25\n",
       "1     6\n",
       "2    21\n",
       "3     8\n",
       "4    19\n",
       "Name: Num_Total_Purchases, dtype: int64"
      ]
     },
     "execution_count": 18,
     "metadata": {},
     "output_type": "execute_result"
    }
   ],
   "source": [
    "df['Num_Total_Purchases'].head(5)"
   ]
  },
  {
   "cell_type": "markdown",
   "id": "52d2dca5",
   "metadata": {
    "id": "52d2dca5"
   },
   "source": [
    "### 9. Group the columns 'Kidhome' and 'Teenhome' as 'Kids'"
   ]
  },
  {
   "cell_type": "code",
   "execution_count": 20,
   "id": "f7c861a1",
   "metadata": {
    "id": "f7c861a1"
   },
   "outputs": [],
   "source": [
    "df['Kids'] = df['Kidhome'] + df['Teenhome']"
   ]
  },
  {
   "cell_type": "code",
   "execution_count": 21,
   "id": "0a632e52-9089-499f-b262-bab73a4c6726",
   "metadata": {},
   "outputs": [
    {
     "data": {
      "text/plain": [
       "0    0\n",
       "1    2\n",
       "2    0\n",
       "3    1\n",
       "4    1\n",
       "Name: Kids, dtype: int64"
      ]
     },
     "execution_count": 21,
     "metadata": {},
     "output_type": "execute_result"
    }
   ],
   "source": [
    "df['Kids'].head(5)"
   ]
  },
  {
   "cell_type": "markdown",
   "id": "36f67474",
   "metadata": {
    "id": "36f67474"
   },
   "source": [
    "### 10. Group columns 'AcceptedCmp1 , 2 , 3 , 4, 5' and 'Response' as 'TotalAcceptedCmp'"
   ]
  },
  {
   "cell_type": "code",
   "execution_count": 52,
   "id": "ecc9109f",
   "metadata": {
    "id": "ecc9109f"
   },
   "outputs": [],
   "source": [
    "df['TotalAcceptedCmp'] = df[['AcceptedCmp1', 'AcceptedCmp2', 'AcceptedCmp3', 'AcceptedCmp4', 'AcceptedCmp5', 'Response']].sum(axis=1)"
   ]
  },
  {
   "cell_type": "code",
   "execution_count": 54,
   "id": "b9d43486-311a-497a-b66d-b95df2ebda97",
   "metadata": {},
   "outputs": [
    {
     "name": "stdout",
     "output_type": "stream",
     "text": [
      "0    1\n",
      "1    0\n",
      "2    0\n",
      "3    0\n",
      "4    0\n",
      "Name: TotalAcceptedCmp, dtype: int64\n"
     ]
    }
   ],
   "source": [
    "print(df['TotalAcceptedCmp'].head(5))"
   ]
  },
  {
   "cell_type": "markdown",
   "id": "886bfb08",
   "metadata": {
    "id": "886bfb08"
   },
   "source": [
    "### 11. Drop those columns which we have used above for obtaining new features"
   ]
  },
  {
   "cell_type": "code",
   "execution_count": 23,
   "id": "0785974e-b58a-491d-9429-1f21821246f0",
   "metadata": {
    "id": "e853e663"
   },
   "outputs": [
    {
     "data": {
      "text/html": [
       "<div>\n",
       "<style scoped>\n",
       "    .dataframe tbody tr th:only-of-type {\n",
       "        vertical-align: middle;\n",
       "    }\n",
       "\n",
       "    .dataframe tbody tr th {\n",
       "        vertical-align: top;\n",
       "    }\n",
       "\n",
       "    .dataframe thead th {\n",
       "        text-align: right;\n",
       "    }\n",
       "</style>\n",
       "<table border=\"1\" class=\"dataframe\">\n",
       "  <thead>\n",
       "    <tr style=\"text-align: right;\">\n",
       "      <th></th>\n",
       "      <th>Year_Birth</th>\n",
       "      <th>Education</th>\n",
       "      <th>Marital_Status</th>\n",
       "      <th>Income</th>\n",
       "      <th>Recency</th>\n",
       "      <th>NumWebVisitsMonth</th>\n",
       "      <th>Complain</th>\n",
       "      <th>Total_Expenses</th>\n",
       "      <th>Num_Total_Purchases</th>\n",
       "      <th>Kids</th>\n",
       "    </tr>\n",
       "  </thead>\n",
       "  <tbody>\n",
       "    <tr>\n",
       "      <th>0</th>\n",
       "      <td>1957</td>\n",
       "      <td>Graduation</td>\n",
       "      <td>Single</td>\n",
       "      <td>58138.0</td>\n",
       "      <td>58</td>\n",
       "      <td>7</td>\n",
       "      <td>0</td>\n",
       "      <td>1617</td>\n",
       "      <td>25</td>\n",
       "      <td>0</td>\n",
       "    </tr>\n",
       "    <tr>\n",
       "      <th>1</th>\n",
       "      <td>1954</td>\n",
       "      <td>Graduation</td>\n",
       "      <td>Single</td>\n",
       "      <td>46344.0</td>\n",
       "      <td>38</td>\n",
       "      <td>5</td>\n",
       "      <td>0</td>\n",
       "      <td>27</td>\n",
       "      <td>6</td>\n",
       "      <td>2</td>\n",
       "    </tr>\n",
       "    <tr>\n",
       "      <th>2</th>\n",
       "      <td>1965</td>\n",
       "      <td>Graduation</td>\n",
       "      <td>relationship</td>\n",
       "      <td>71613.0</td>\n",
       "      <td>26</td>\n",
       "      <td>4</td>\n",
       "      <td>0</td>\n",
       "      <td>776</td>\n",
       "      <td>21</td>\n",
       "      <td>0</td>\n",
       "    </tr>\n",
       "    <tr>\n",
       "      <th>3</th>\n",
       "      <td>1984</td>\n",
       "      <td>Graduation</td>\n",
       "      <td>relationship</td>\n",
       "      <td>26646.0</td>\n",
       "      <td>26</td>\n",
       "      <td>6</td>\n",
       "      <td>0</td>\n",
       "      <td>53</td>\n",
       "      <td>8</td>\n",
       "      <td>1</td>\n",
       "    </tr>\n",
       "    <tr>\n",
       "      <th>4</th>\n",
       "      <td>1981</td>\n",
       "      <td>PhD</td>\n",
       "      <td>relationship</td>\n",
       "      <td>58293.0</td>\n",
       "      <td>94</td>\n",
       "      <td>5</td>\n",
       "      <td>0</td>\n",
       "      <td>422</td>\n",
       "      <td>19</td>\n",
       "      <td>1</td>\n",
       "    </tr>\n",
       "  </tbody>\n",
       "</table>\n",
       "</div>"
      ],
      "text/plain": [
       "   Year_Birth   Education Marital_Status   Income  Recency  NumWebVisitsMonth  \\\n",
       "0        1957  Graduation         Single  58138.0       58                  7   \n",
       "1        1954  Graduation         Single  46344.0       38                  5   \n",
       "2        1965  Graduation   relationship  71613.0       26                  4   \n",
       "3        1984  Graduation   relationship  26646.0       26                  6   \n",
       "4        1981         PhD   relationship  58293.0       94                  5   \n",
       "\n",
       "   Complain  Total_Expenses  Num_Total_Purchases  Kids  \n",
       "0         0            1617                   25     0  \n",
       "1         0              27                    6     2  \n",
       "2         0             776                   21     0  \n",
       "3         0              53                    8     1  \n",
       "4         0             422                   19     1  "
      ]
     },
     "execution_count": 23,
     "metadata": {},
     "output_type": "execute_result"
    }
   ],
   "source": [
    "col_del = ['AcceptedCmp1', 'AcceptedCmp2', 'AcceptedCmp3', 'AcceptedCmp4', 'AcceptedCmp5', 'Response', 'Kidhome','Teenhome', 'NumWebPurchases', 'NumCatalogPurchases', 'NumStorePurchases', 'NumDealsPurchases', 'MntWines', 'MntFruits', 'MntMeatProducts', 'MntFishProducts', 'MntSweetProducts', 'MntGoldProds' ]\n",
    "df = df.drop(columns=col_del, axis=1)\n",
    "df.head()"
   ]
  },
  {
   "cell_type": "markdown",
   "id": "4225ced7",
   "metadata": {
    "id": "4225ced7"
   },
   "source": [
    "### 12. Extract 'age' using the column 'Year_Birth' and then drop the column 'Year_birth'"
   ]
  },
  {
   "cell_type": "code",
   "execution_count": 24,
   "id": "d517611e",
   "metadata": {
    "id": "d517611e"
   },
   "outputs": [
    {
     "name": "stdout",
     "output_type": "stream",
     "text": [
      "0    67\n",
      "1    70\n",
      "2    59\n",
      "3    40\n",
      "4    43\n",
      "Name: Age, dtype: int64\n"
     ]
    }
   ],
   "source": [
    "import datetime\n",
    "\n",
    "current_year = datetime.datetime.now().year\n",
    "df['Age'] = current_year - df['Year_Birth']\n",
    "df = df.drop(columns=['Year_Birth'])\n",
    "print(df['Age'].head(5))"
   ]
  },
  {
   "cell_type": "markdown",
   "id": "f2d3c92d",
   "metadata": {
    "id": "f2d3c92d"
   },
   "source": [
    "### 13. Encode the categorical variables in the dataset"
   ]
  },
  {
   "cell_type": "code",
   "execution_count": 25,
   "id": "030cfc32",
   "metadata": {
    "id": "030cfc32"
   },
   "outputs": [],
   "source": [
    "cate = ['Education', 'Marital_Status']\n",
    "lbl_encode = LabelEncoder()\n",
    "\n",
    "for i in cate:\n",
    "    df[i] = df[[i]].apply(lbl_encode.fit_transform)"
   ]
  },
  {
   "cell_type": "code",
   "execution_count": 28,
   "id": "71c5fc99-f429-46d2-ba9b-b0311633f6c6",
   "metadata": {},
   "outputs": [
    {
     "data": {
      "text/html": [
       "<div>\n",
       "<style scoped>\n",
       "    .dataframe tbody tr th:only-of-type {\n",
       "        vertical-align: middle;\n",
       "    }\n",
       "\n",
       "    .dataframe tbody tr th {\n",
       "        vertical-align: top;\n",
       "    }\n",
       "\n",
       "    .dataframe thead th {\n",
       "        text-align: right;\n",
       "    }\n",
       "</style>\n",
       "<table border=\"1\" class=\"dataframe\">\n",
       "  <thead>\n",
       "    <tr style=\"text-align: right;\">\n",
       "      <th></th>\n",
       "      <th>Education</th>\n",
       "      <th>Marital_Status</th>\n",
       "      <th>Income</th>\n",
       "      <th>Recency</th>\n",
       "      <th>NumWebVisitsMonth</th>\n",
       "      <th>Complain</th>\n",
       "      <th>Total_Expenses</th>\n",
       "      <th>Num_Total_Purchases</th>\n",
       "      <th>Kids</th>\n",
       "      <th>Age</th>\n",
       "    </tr>\n",
       "  </thead>\n",
       "  <tbody>\n",
       "    <tr>\n",
       "      <th>0</th>\n",
       "      <td>2</td>\n",
       "      <td>0</td>\n",
       "      <td>58138.0</td>\n",
       "      <td>58</td>\n",
       "      <td>7</td>\n",
       "      <td>0</td>\n",
       "      <td>1617</td>\n",
       "      <td>25</td>\n",
       "      <td>0</td>\n",
       "      <td>67</td>\n",
       "    </tr>\n",
       "    <tr>\n",
       "      <th>1</th>\n",
       "      <td>2</td>\n",
       "      <td>0</td>\n",
       "      <td>46344.0</td>\n",
       "      <td>38</td>\n",
       "      <td>5</td>\n",
       "      <td>0</td>\n",
       "      <td>27</td>\n",
       "      <td>6</td>\n",
       "      <td>2</td>\n",
       "      <td>70</td>\n",
       "    </tr>\n",
       "    <tr>\n",
       "      <th>2</th>\n",
       "      <td>2</td>\n",
       "      <td>1</td>\n",
       "      <td>71613.0</td>\n",
       "      <td>26</td>\n",
       "      <td>4</td>\n",
       "      <td>0</td>\n",
       "      <td>776</td>\n",
       "      <td>21</td>\n",
       "      <td>0</td>\n",
       "      <td>59</td>\n",
       "    </tr>\n",
       "    <tr>\n",
       "      <th>3</th>\n",
       "      <td>2</td>\n",
       "      <td>1</td>\n",
       "      <td>26646.0</td>\n",
       "      <td>26</td>\n",
       "      <td>6</td>\n",
       "      <td>0</td>\n",
       "      <td>53</td>\n",
       "      <td>8</td>\n",
       "      <td>1</td>\n",
       "      <td>40</td>\n",
       "    </tr>\n",
       "    <tr>\n",
       "      <th>4</th>\n",
       "      <td>4</td>\n",
       "      <td>1</td>\n",
       "      <td>58293.0</td>\n",
       "      <td>94</td>\n",
       "      <td>5</td>\n",
       "      <td>0</td>\n",
       "      <td>422</td>\n",
       "      <td>19</td>\n",
       "      <td>1</td>\n",
       "      <td>43</td>\n",
       "    </tr>\n",
       "  </tbody>\n",
       "</table>\n",
       "</div>"
      ],
      "text/plain": [
       "   Education  Marital_Status   Income  Recency  NumWebVisitsMonth  Complain  \\\n",
       "0          2               0  58138.0       58                  7         0   \n",
       "1          2               0  46344.0       38                  5         0   \n",
       "2          2               1  71613.0       26                  4         0   \n",
       "3          2               1  26646.0       26                  6         0   \n",
       "4          4               1  58293.0       94                  5         0   \n",
       "\n",
       "   Total_Expenses  Num_Total_Purchases  Kids  Age  \n",
       "0            1617                   25     0   67  \n",
       "1              27                    6     2   70  \n",
       "2             776                   21     0   59  \n",
       "3              53                    8     1   40  \n",
       "4             422                   19     1   43  "
      ]
     },
     "execution_count": 28,
     "metadata": {},
     "output_type": "execute_result"
    }
   ],
   "source": [
    "df.head()"
   ]
  },
  {
   "cell_type": "markdown",
   "id": "9242e36d",
   "metadata": {
    "id": "9242e36d"
   },
   "source": [
    "### 14. Standardize the columns, so that values are in a particular range"
   ]
  },
  {
   "cell_type": "code",
   "execution_count": 31,
   "id": "72475b68",
   "metadata": {
    "id": "72475b68"
   },
   "outputs": [
    {
     "data": {
      "text/html": [
       "<div>\n",
       "<style scoped>\n",
       "    .dataframe tbody tr th:only-of-type {\n",
       "        vertical-align: middle;\n",
       "    }\n",
       "\n",
       "    .dataframe tbody tr th {\n",
       "        vertical-align: top;\n",
       "    }\n",
       "\n",
       "    .dataframe thead th {\n",
       "        text-align: right;\n",
       "    }\n",
       "</style>\n",
       "<table border=\"1\" class=\"dataframe\">\n",
       "  <thead>\n",
       "    <tr style=\"text-align: right;\">\n",
       "      <th></th>\n",
       "      <th>Education</th>\n",
       "      <th>Marital_Status</th>\n",
       "      <th>Income</th>\n",
       "      <th>Recency</th>\n",
       "      <th>NumWebVisitsMonth</th>\n",
       "      <th>Complain</th>\n",
       "      <th>Total_Expenses</th>\n",
       "      <th>Num_Total_Purchases</th>\n",
       "      <th>Kids</th>\n",
       "      <th>Age</th>\n",
       "    </tr>\n",
       "  </thead>\n",
       "  <tbody>\n",
       "    <tr>\n",
       "      <th>0</th>\n",
       "      <td>-0.350141</td>\n",
       "      <td>-1.346874</td>\n",
       "      <td>0.235327</td>\n",
       "      <td>0.307039</td>\n",
       "      <td>0.693904</td>\n",
       "      <td>-0.097282</td>\n",
       "      <td>1.679417</td>\n",
       "      <td>1.320826</td>\n",
       "      <td>-1.264505</td>\n",
       "      <td>0.985345</td>\n",
       "    </tr>\n",
       "    <tr>\n",
       "      <th>1</th>\n",
       "      <td>-0.350141</td>\n",
       "      <td>-1.346874</td>\n",
       "      <td>-0.235826</td>\n",
       "      <td>-0.383664</td>\n",
       "      <td>-0.130463</td>\n",
       "      <td>-0.097282</td>\n",
       "      <td>-0.961275</td>\n",
       "      <td>-1.154596</td>\n",
       "      <td>1.396361</td>\n",
       "      <td>1.235733</td>\n",
       "    </tr>\n",
       "    <tr>\n",
       "      <th>2</th>\n",
       "      <td>-0.350141</td>\n",
       "      <td>0.742460</td>\n",
       "      <td>0.773633</td>\n",
       "      <td>-0.798086</td>\n",
       "      <td>-0.542647</td>\n",
       "      <td>-0.097282</td>\n",
       "      <td>0.282673</td>\n",
       "      <td>0.799685</td>\n",
       "      <td>-1.264505</td>\n",
       "      <td>0.317643</td>\n",
       "    </tr>\n",
       "    <tr>\n",
       "      <th>3</th>\n",
       "      <td>-0.350141</td>\n",
       "      <td>0.742460</td>\n",
       "      <td>-1.022732</td>\n",
       "      <td>-0.798086</td>\n",
       "      <td>0.281720</td>\n",
       "      <td>-0.097282</td>\n",
       "      <td>-0.918094</td>\n",
       "      <td>-0.894025</td>\n",
       "      <td>0.065928</td>\n",
       "      <td>-1.268149</td>\n",
       "    </tr>\n",
       "    <tr>\n",
       "      <th>4</th>\n",
       "      <td>1.428354</td>\n",
       "      <td>0.742460</td>\n",
       "      <td>0.241519</td>\n",
       "      <td>1.550305</td>\n",
       "      <td>-0.130463</td>\n",
       "      <td>-0.097282</td>\n",
       "      <td>-0.305254</td>\n",
       "      <td>0.539114</td>\n",
       "      <td>0.065928</td>\n",
       "      <td>-1.017761</td>\n",
       "    </tr>\n",
       "  </tbody>\n",
       "</table>\n",
       "</div>"
      ],
      "text/plain": [
       "   Education  Marital_Status    Income   Recency  NumWebVisitsMonth  Complain  \\\n",
       "0  -0.350141       -1.346874  0.235327  0.307039           0.693904 -0.097282   \n",
       "1  -0.350141       -1.346874 -0.235826 -0.383664          -0.130463 -0.097282   \n",
       "2  -0.350141        0.742460  0.773633 -0.798086          -0.542647 -0.097282   \n",
       "3  -0.350141        0.742460 -1.022732 -0.798086           0.281720 -0.097282   \n",
       "4   1.428354        0.742460  0.241519  1.550305          -0.130463 -0.097282   \n",
       "\n",
       "   Total_Expenses  Num_Total_Purchases      Kids       Age  \n",
       "0        1.679417             1.320826 -1.264505  0.985345  \n",
       "1       -0.961275            -1.154596  1.396361  1.235733  \n",
       "2        0.282673             0.799685 -1.264505  0.317643  \n",
       "3       -0.918094            -0.894025  0.065928 -1.268149  \n",
       "4       -0.305254             0.539114  0.065928 -1.017761  "
      ]
     },
     "execution_count": 31,
     "metadata": {},
     "output_type": "execute_result"
    }
   ],
   "source": [
    "df1 = df.copy()\n",
    "s = StandardScaler()\n",
    "\n",
    "df_standardized = s.fit_transform(df1)\n",
    "\n",
    "df_standardized = pd.DataFrame(df_standardized, columns = df1.columns)\n",
    "df_standardized.head()"
   ]
  },
  {
   "cell_type": "markdown",
   "id": "d063d2e2",
   "metadata": {
    "id": "d063d2e2"
   },
   "source": [
    "### 15. Apply PCA on the above dataset and determine the number of PCA components to be used so that 90-95% of the variance in data is explained by the same."
   ]
  },
  {
   "cell_type": "code",
   "execution_count": 32,
   "id": "6df3c70e",
   "metadata": {
    "id": "6df3c70e"
   },
   "outputs": [
    {
     "data": {
      "text/plain": [
       "array([[ 1.00044663, -0.01375403,  0.1200273 , -0.01173369, -0.04029882,\n",
       "        -0.05056252,  0.09209518,  0.09405439,  0.05321304,  0.17146685],\n",
       "       [-0.01375403,  1.00044663,  0.00463847, -0.00450972,  0.00344176,\n",
       "        -0.00520466, -0.01775232,  0.00671037,  0.03917598, -0.0042384 ],\n",
       "       [ 0.1200273 ,  0.00463847,  1.00044663, -0.00394826, -0.55006966,\n",
       "        -0.02723528,  0.66500337,  0.5636214 , -0.29084155,  0.16101378],\n",
       "       [-0.01173369, -0.00450972, -0.00394826,  1.00044663, -0.02145427,\n",
       "         0.01323699,  0.02044173,  0.00574294,  0.01806145,  0.01987996],\n",
       "       [-0.04029882,  0.00344176, -0.55006966, -0.02145427,  1.00044663,\n",
       "         0.01977734, -0.50044131, -0.31242795,  0.41860616, -0.12119336],\n",
       "       [-0.05056252, -0.00520466, -0.02723528,  0.01323699,  0.01977734,\n",
       "         1.00044663, -0.03707503, -0.02059185,  0.03108014,  0.030141  ],\n",
       "       [ 0.09209518, -0.01775232,  0.66500337,  0.02044173, -0.50044131,\n",
       "        -0.03707503,  1.00044663,  0.75423984, -0.49911047,  0.11135611],\n",
       "       [ 0.09405439,  0.00671037,  0.5636214 ,  0.00574294, -0.31242795,\n",
       "        -0.02059185,  0.75423984,  1.00044663, -0.24589955,  0.16837908],\n",
       "       [ 0.05321304,  0.03917598, -0.29084155,  0.01806145,  0.41860616,\n",
       "         0.03108014, -0.49911047, -0.24589955,  1.00044663,  0.09023955],\n",
       "       [ 0.17146685, -0.0042384 ,  0.16101378,  0.01987996, -0.12119336,\n",
       "         0.030141  ,  0.11135611,  0.16837908,  0.09023955,  1.00044663]])"
      ]
     },
     "execution_count": 32,
     "metadata": {},
     "output_type": "execute_result"
    }
   ],
   "source": [
    "#Step1: calculate the covariance matrix\n",
    "\n",
    "cov_matrix = np.cov(df_standardized.T)\n",
    "cov_matrix"
   ]
  },
  {
   "cell_type": "code",
   "execution_count": 33,
   "id": "d76a859d-b5a4-4c89-8865-675f9f025e04",
   "metadata": {},
   "outputs": [
    {
     "name": "stdout",
     "output_type": "stream",
     "text": [
      "eigein vals: \n",
      " [3.00605354 0.1791556  0.34039073 1.24470761 0.60536386 0.82001422\n",
      " 0.78004549 1.03376198 1.00620361 0.98876964]\n",
      "\n",
      "\n",
      "eigein vectors \n",
      " [[-0.08400425  0.02178328  0.03462383  0.59058432  0.05008878  0.74263889\n",
      "  -0.01584605 -0.26332081 -0.13115025  0.04085804]\n",
      " [ 0.0099841  -0.01042211 -0.00647786  0.03590739  0.07332849  0.11590229\n",
      "  -0.07866684 -0.05205555  0.98046171  0.09719342]\n",
      " [-0.47476645  0.15894187 -0.73033052  0.07884051 -0.44904852 -0.04340106\n",
      "   0.05945247  0.00781276  0.04509517 -0.02404932]\n",
      " [-0.00759411  0.02145341 -0.03017194  0.04492403  0.02484337  0.10542056\n",
      "   0.02217176  0.56075405 -0.06518522  0.81586585]\n",
      " [ 0.40914979 -0.0557407  -0.51392435  0.11163318  0.48258343 -0.05213083\n",
      "   0.56141867 -0.04418627  0.00177397 -0.01258278]\n",
      " [ 0.03010634 -0.00533984 -0.00231152  0.0127357  -0.00117905  0.30743149\n",
      "   0.04975982  0.76355631  0.0630618  -0.56116929]\n",
      " [-0.52221786 -0.79529405  0.08041524 -0.0456048   0.16497082 -0.00587584\n",
      "   0.24262269  0.00699763  0.00662582  0.00639886]\n",
      " [-0.44869204  0.52963787  0.37968146  0.11913278  0.16136978 -0.15638639\n",
      "   0.55153684  0.02574656  0.06266234 -0.02300642]\n",
      " [ 0.3321178  -0.23915836  0.21363584  0.44737333 -0.62493609 -0.23958441\n",
      "   0.3594308   0.04824842  0.08492084  0.00648931]\n",
      " [-0.12138586 -0.01878702 -0.06385716  0.64237633  0.33639772 -0.49288267\n",
      "  -0.42381379  0.15948606 -0.00705652 -0.08358804]]\n"
     ]
    }
   ],
   "source": [
    "#Step2: calculate the eigen values and eigen vectors\n",
    "\n",
    "eig_vals, eig_vactors = np.linalg.eig(cov_matrix)\n",
    "print('eigein vals:','\\n', eig_vals)\n",
    "print('\\n')\n",
    "print('eigein vectors','\\n', eig_vactors)"
   ]
  },
  {
   "cell_type": "code",
   "execution_count": 34,
   "id": "b6526e94-e8e9-4d19-961a-24fc367c1826",
   "metadata": {},
   "outputs": [
    {
     "name": "stdout",
     "output_type": "stream",
     "text": [
      "Explained Variance: [30.047115510225364, 12.441519362656212, 10.333004828818131, 10.057544161721351, 9.883282247824479, 8.196481395491599, 7.796972550350604, 6.0509360721033145, 3.4023876809826916, 1.7907561898262556]\n",
      "Cummulative variance explained: [ 30.04711551  42.48863487  52.8216397   62.87918386  72.76246611\n",
      "  80.95894751  88.75592006  94.80685613  98.20924381 100.        ]\n"
     ]
    }
   ],
   "source": [
    "#step3: screen plot\n",
    "\n",
    "total = sum(eig_vals)\n",
    "\n",
    "var_exp = [(i/total)*100 for i in sorted(eig_vals, reverse = True)]\n",
    "cum_var_exp = np.cumsum(var_exp)\n",
    "print('Explained Variance:', var_exp)\n",
    "print('Cummulative variance explained:', cum_var_exp)"
   ]
  },
  {
   "cell_type": "code",
   "execution_count": 35,
   "id": "b1b69ffc-78a8-4c2a-8715-e854f217481c",
   "metadata": {},
   "outputs": [
    {
     "data": {
      "image/png": "[encoded data removed]",
      "text/plain": [
       "<Figure size 640x480 with 1 Axes>"
      ]
     },
     "metadata": {},
     "output_type": "display_data"
    }
   ],
   "source": [
    "#Screen plot\n",
    "\n",
    "plt.bar(range(10), var_exp, align='center', color='lightgreen', edgecolor= 'black', label='Explained Variance')\n",
    "plt.step(range(10), cum_var_exp, where='mid', color='red', label='Cummulative variance explained')\n",
    "plt.xlabel('Principal commponents')\n",
    "plt.ylabel('Explianed Variance ratio')\n",
    "plt.title('Screen Plot')\n",
    "plt.legend(loc='best')\n",
    "plt.show()"
   ]
  },
  {
   "cell_type": "markdown",
   "id": "b2df19d7",
   "metadata": {
    "id": "b2df19d7"
   },
   "source": [
    "### 16. Apply K-means clustering and segment the data (Use PCA transformed data for clustering)"
   ]
  },
  {
   "cell_type": "code",
   "execution_count": 39,
   "id": "a3a8bb4c",
   "metadata": {
    "id": "a3a8bb4c"
   },
   "outputs": [
    {
     "data": {
      "text/html": [
       "<div>\n",
       "<style scoped>\n",
       "    .dataframe tbody tr th:only-of-type {\n",
       "        vertical-align: middle;\n",
       "    }\n",
       "\n",
       "    .dataframe tbody tr th {\n",
       "        vertical-align: top;\n",
       "    }\n",
       "\n",
       "    .dataframe thead th {\n",
       "        text-align: right;\n",
       "    }\n",
       "</style>\n",
       "<table border=\"1\" class=\"dataframe\">\n",
       "  <thead>\n",
       "    <tr style=\"text-align: right;\">\n",
       "      <th></th>\n",
       "      <th>PC1</th>\n",
       "      <th>PC2</th>\n",
       "      <th>PC3</th>\n",
       "      <th>PC4</th>\n",
       "      <th>PC5</th>\n",
       "      <th>PC6</th>\n",
       "      <th>PC7</th>\n",
       "      <th>PC8</th>\n",
       "    </tr>\n",
       "  </thead>\n",
       "  <tbody>\n",
       "    <tr>\n",
       "      <th>0</th>\n",
       "      <td>1.826346</td>\n",
       "      <td>0.001440</td>\n",
       "      <td>0.373280</td>\n",
       "      <td>-1.309386</td>\n",
       "      <td>-0.035280</td>\n",
       "      <td>-0.859192</td>\n",
       "      <td>-0.780875</td>\n",
       "      <td>-1.732532</td>\n",
       "    </tr>\n",
       "    <tr>\n",
       "      <th>1</th>\n",
       "      <td>-1.408343</td>\n",
       "      <td>1.018007</td>\n",
       "      <td>0.104814</td>\n",
       "      <td>-1.235488</td>\n",
       "      <td>0.470146</td>\n",
       "      <td>-1.226858</td>\n",
       "      <td>0.880965</td>\n",
       "      <td>0.884619</td>\n",
       "    </tr>\n",
       "    <tr>\n",
       "      <th>2</th>\n",
       "      <td>1.514312</td>\n",
       "      <td>-0.496086</td>\n",
       "      <td>-0.426022</td>\n",
       "      <td>0.796046</td>\n",
       "      <td>0.601807</td>\n",
       "      <td>-0.273631</td>\n",
       "      <td>0.413537</td>\n",
       "      <td>-0.480689</td>\n",
       "    </tr>\n",
       "    <tr>\n",
       "      <th>3</th>\n",
       "      <td>-1.697201</td>\n",
       "      <td>-1.116177</td>\n",
       "      <td>-0.717212</td>\n",
       "      <td>0.726585</td>\n",
       "      <td>0.396509</td>\n",
       "      <td>0.496145</td>\n",
       "      <td>0.132718</td>\n",
       "      <td>0.151128</td>\n",
       "    </tr>\n",
       "    <tr>\n",
       "      <th>4</th>\n",
       "      <td>0.232370</td>\n",
       "      <td>0.396964</td>\n",
       "      <td>0.240554</td>\n",
       "      <td>0.488633</td>\n",
       "      <td>-1.516932</td>\n",
       "      <td>1.679975</td>\n",
       "      <td>-0.567923</td>\n",
       "      <td>0.353730</td>\n",
       "    </tr>\n",
       "  </tbody>\n",
       "</table>\n",
       "</div>"
      ],
      "text/plain": [
       "        PC1       PC2       PC3       PC4       PC5       PC6       PC7  \\\n",
       "0  1.826346  0.001440  0.373280 -1.309386 -0.035280 -0.859192 -0.780875   \n",
       "1 -1.408343  1.018007  0.104814 -1.235488  0.470146 -1.226858  0.880965   \n",
       "2  1.514312 -0.496086 -0.426022  0.796046  0.601807 -0.273631  0.413537   \n",
       "3 -1.697201 -1.116177 -0.717212  0.726585  0.396509  0.496145  0.132718   \n",
       "4  0.232370  0.396964  0.240554  0.488633 -1.516932  1.679975 -0.567923   \n",
       "\n",
       "        PC8  \n",
       "0 -1.732532  \n",
       "1  0.884619  \n",
       "2 -0.480689  \n",
       "3  0.151128  \n",
       "4  0.353730  "
      ]
     },
     "execution_count": 39,
     "metadata": {},
     "output_type": "execute_result"
    }
   ],
   "source": [
    "pca = PCA(n_components = 8)\n",
    "\n",
    "pca_df = pd.DataFrame(pca.fit_transform(df_standardized), columns=['PC1','PC2','PC3','PC4','PC5','PC6','PC7','PC8'])\n",
    "pca_df.head()"
   ]
  },
  {
   "cell_type": "code",
   "execution_count": 42,
   "id": "5c253268-3f5e-449f-9320-ec3264a5f62c",
   "metadata": {},
   "outputs": [],
   "source": [
    "#finding optimal K value by KMeans clustering using Elbow Plotf\n",
    "cluster_errors = []\n",
    "cluster_range = range(2, 15)\n",
    "\n",
    "for num_clusters in cluster_range:\n",
    "    clusters = KMeans(num_clusters, random_state=100)\n",
    "    clusters.fit(pca_df)\n",
    "    cluster_errors.append(clusters.inertia_)\n"
   ]
  },
  {
   "cell_type": "code",
   "execution_count": 43,
   "id": "bdcdcb5a-6478-48db-b4f7-e7d0ba292044",
   "metadata": {},
   "outputs": [
    {
     "data": {
      "image/png": "[encoded data removed]",
      "text/plain": [
       "<Figure size 1500x500 with 1 Axes>"
      ]
     },
     "metadata": {},
     "output_type": "display_data"
    }
   ],
   "source": [
    "#creating a dataframe of nimber of clusters and clusters_errors\n",
    "\n",
    "cluster_df = pd.DataFrame({'num_clusters':cluster_range, 'cluster_errors':cluster_errors})\n",
    "\n",
    "##elbow plot\n",
    "\n",
    "plt.figure(figsize=[15, 5])\n",
    "plt.plot(cluster_df['num_clusters'], cluster_df['cluster_errors'], marker='o', color ='b')\n",
    "\n",
    "plt.show()"
   ]
  },
  {
   "cell_type": "markdown",
   "id": "6f5f9792-a3ac-4dc0-be34-bbc8481bab99",
   "metadata": {},
   "source": [
    "From the above elbow plot we can see at the cluster K = 3, the inertia significatly decrease. Hence we can select our optimal clusters as K = 3"
   ]
  },
  {
   "cell_type": "code",
   "execution_count": 44,
   "id": "cc7bdba8-b760-43c7-8d95-c549b6a3b07e",
   "metadata": {},
   "outputs": [
    {
     "data": {
      "text/html": [
       "<style>#sk-container-id-1 {color: black;}#sk-container-id-1 pre{padding: 0;}#sk-container-id-1 div.sk-toggleable {background-color: white;}#sk-container-id-1 label.sk-toggleable__label {cursor: pointer;display: block;width: 100%;margin-bottom: 0;padding: 0.3em;box-sizing: border-box;text-align: center;}#sk-container-id-1 label.sk-toggleable__label-arrow:before {content: \"▸\";float: left;margin-right: 0.25em;color: #696969;}#sk-container-id-1 label.sk-toggleable__label-arrow:hover:before {color: black;}#sk-container-id-1 div.sk-estimator:hover label.sk-toggleable__label-arrow:before {color: black;}#sk-container-id-1 div.sk-toggleable__content {max-height: 0;max-width: 0;overflow: hidden;text-align: left;background-color: #f0f8ff;}#sk-container-id-1 div.sk-toggleable__content pre {margin: 0.2em;color: black;border-radius: 0.25em;background-color: #f0f8ff;}#sk-container-id-1 input.sk-toggleable__control:checked~div.sk-toggleable__content {max-height: 200px;max-width: 100%;overflow: auto;}#sk-container-id-1 input.sk-toggleable__control:checked~label.sk-toggleable__label-arrow:before {content: \"▾\";}#sk-container-id-1 div.sk-estimator input.sk-toggleable__control:checked~label.sk-toggleable__label {background-color: #d4ebff;}#sk-container-id-1 div.sk-label input.sk-toggleable__control:checked~label.sk-toggleable__label {background-color: #d4ebff;}#sk-container-id-1 input.sk-hidden--visually {border: 0;clip: rect(1px 1px 1px 1px);clip: rect(1px, 1px, 1px, 1px);height: 1px;margin: -1px;overflow: hidden;padding: 0;position: absolute;width: 1px;}#sk-container-id-1 div.sk-estimator {font-family: monospace;background-color: #f0f8ff;border: 1px dotted black;border-radius: 0.25em;box-sizing: border-box;margin-bottom: 0.5em;}#sk-container-id-1 div.sk-estimator:hover {background-color: #d4ebff;}#sk-container-id-1 div.sk-parallel-item::after {content: \"\";width: 100%;border-bottom: 1px solid gray;flex-grow: 1;}#sk-container-id-1 div.sk-label:hover label.sk-toggleable__label {background-color: #d4ebff;}#sk-container-id-1 div.sk-serial::before {content: \"\";position: absolute;border-left: 1px solid gray;box-sizing: border-box;top: 0;bottom: 0;left: 50%;z-index: 0;}#sk-container-id-1 div.sk-serial {display: flex;flex-direction: column;align-items: center;background-color: white;padding-right: 0.2em;padding-left: 0.2em;position: relative;}#sk-container-id-1 div.sk-item {position: relative;z-index: 1;}#sk-container-id-1 div.sk-parallel {display: flex;align-items: stretch;justify-content: center;background-color: white;position: relative;}#sk-container-id-1 div.sk-item::before, #sk-container-id-1 div.sk-parallel-item::before {content: \"\";position: absolute;border-left: 1px solid gray;box-sizing: border-box;top: 0;bottom: 0;left: 50%;z-index: -1;}#sk-container-id-1 div.sk-parallel-item {display: flex;flex-direction: column;z-index: 1;position: relative;background-color: white;}#sk-container-id-1 div.sk-parallel-item:first-child::after {align-self: flex-end;width: 50%;}#sk-container-id-1 div.sk-parallel-item:last-child::after {align-self: flex-start;width: 50%;}#sk-container-id-1 div.sk-parallel-item:only-child::after {width: 0;}#sk-container-id-1 div.sk-dashed-wrapped {border: 1px dashed gray;margin: 0 0.4em 0.5em 0.4em;box-sizing: border-box;padding-bottom: 0.4em;background-color: white;}#sk-container-id-1 div.sk-label label {font-family: monospace;font-weight: bold;display: inline-block;line-height: 1.2em;}#sk-container-id-1 div.sk-label-container {text-align: center;}#sk-container-id-1 div.sk-container {/* jupyter's `normalize.less` sets `[hidden] { display: none; }` but bootstrap.min.css set `[hidden] { display: none !important; }` so we also need the `!important` here to be able to override the default hidden behavior on the sphinx rendered scikit-learn.org. See: https://github.com/scikit-learn/scikit-learn/issues/21755 */display: inline-block !important;position: relative;}#sk-container-id-1 div.sk-text-repr-fallback {display: none;}</style><div id=\"sk-container-id-1\" class=\"sk-top-container\"><div class=\"sk-text-repr-fallback\"><pre>KMeans(n_clusters=3, random_state=100)</pre><b>In a Jupyter environment, please rerun this cell to show the HTML representation or trust the notebook. <br />On GitHub, the HTML representation is unable to render, please try loading this page with nbviewer.org.</b></div><div class=\"sk-container\" hidden><div class=\"sk-item\"><div class=\"sk-estimator sk-toggleable\"><input class=\"sk-toggleable__control sk-hidden--visually\" id=\"sk-estimator-id-1\" type=\"checkbox\" checked><label for=\"sk-estimator-id-1\" class=\"sk-toggleable__label sk-toggleable__label-arrow\">KMeans</label><div class=\"sk-toggleable__content\"><pre>KMeans(n_clusters=3, random_state=100)</pre></div></div></div></div></div>"
      ],
      "text/plain": [
       "KMeans(n_clusters=3, random_state=100)"
      ]
     },
     "execution_count": 44,
     "metadata": {},
     "output_type": "execute_result"
    }
   ],
   "source": [
    "kmeans = KMeans(n_clusters = 3, random_state =100)\n",
    "kmeans.fit(pca_df)"
   ]
  },
  {
   "cell_type": "code",
   "execution_count": 45,
   "id": "82f1b5f9-7e5b-4662-aaa1-4e6922a2ec4f",
   "metadata": {},
   "outputs": [],
   "source": [
    "#creating a dataframe of the labels \n",
    "label = pd.DataFrame(kmeans.labels_, columns =['Label'])"
   ]
  },
  {
   "cell_type": "code",
   "execution_count": 46,
   "id": "bdc75820-6610-488f-b74f-52fa0c2f814b",
   "metadata": {},
   "outputs": [
    {
     "data": {
      "text/html": [
       "<div>\n",
       "<style scoped>\n",
       "    .dataframe tbody tr th:only-of-type {\n",
       "        vertical-align: middle;\n",
       "    }\n",
       "\n",
       "    .dataframe tbody tr th {\n",
       "        vertical-align: top;\n",
       "    }\n",
       "\n",
       "    .dataframe thead th {\n",
       "        text-align: right;\n",
       "    }\n",
       "</style>\n",
       "<table border=\"1\" class=\"dataframe\">\n",
       "  <thead>\n",
       "    <tr style=\"text-align: right;\">\n",
       "      <th></th>\n",
       "      <th>PC1</th>\n",
       "      <th>PC2</th>\n",
       "      <th>PC3</th>\n",
       "      <th>PC4</th>\n",
       "      <th>PC5</th>\n",
       "      <th>PC6</th>\n",
       "      <th>PC7</th>\n",
       "      <th>PC8</th>\n",
       "      <th>Label</th>\n",
       "    </tr>\n",
       "  </thead>\n",
       "  <tbody>\n",
       "    <tr>\n",
       "      <th>0</th>\n",
       "      <td>1.826346</td>\n",
       "      <td>0.001440</td>\n",
       "      <td>0.373280</td>\n",
       "      <td>-1.309386</td>\n",
       "      <td>-0.035280</td>\n",
       "      <td>-0.859192</td>\n",
       "      <td>-0.780875</td>\n",
       "      <td>-1.732532</td>\n",
       "      <td>1</td>\n",
       "    </tr>\n",
       "    <tr>\n",
       "      <th>1</th>\n",
       "      <td>-1.408343</td>\n",
       "      <td>1.018007</td>\n",
       "      <td>0.104814</td>\n",
       "      <td>-1.235488</td>\n",
       "      <td>0.470146</td>\n",
       "      <td>-1.226858</td>\n",
       "      <td>0.880965</td>\n",
       "      <td>0.884619</td>\n",
       "      <td>0</td>\n",
       "    </tr>\n",
       "    <tr>\n",
       "      <th>2</th>\n",
       "      <td>1.514312</td>\n",
       "      <td>-0.496086</td>\n",
       "      <td>-0.426022</td>\n",
       "      <td>0.796046</td>\n",
       "      <td>0.601807</td>\n",
       "      <td>-0.273631</td>\n",
       "      <td>0.413537</td>\n",
       "      <td>-0.480689</td>\n",
       "      <td>1</td>\n",
       "    </tr>\n",
       "    <tr>\n",
       "      <th>3</th>\n",
       "      <td>-1.697201</td>\n",
       "      <td>-1.116177</td>\n",
       "      <td>-0.717212</td>\n",
       "      <td>0.726585</td>\n",
       "      <td>0.396509</td>\n",
       "      <td>0.496145</td>\n",
       "      <td>0.132718</td>\n",
       "      <td>0.151128</td>\n",
       "      <td>2</td>\n",
       "    </tr>\n",
       "    <tr>\n",
       "      <th>4</th>\n",
       "      <td>0.232370</td>\n",
       "      <td>0.396964</td>\n",
       "      <td>0.240554</td>\n",
       "      <td>0.488633</td>\n",
       "      <td>-1.516932</td>\n",
       "      <td>1.679975</td>\n",
       "      <td>-0.567923</td>\n",
       "      <td>0.353730</td>\n",
       "      <td>2</td>\n",
       "    </tr>\n",
       "  </tbody>\n",
       "</table>\n",
       "</div>"
      ],
      "text/plain": [
       "        PC1       PC2       PC3       PC4       PC5       PC6       PC7  \\\n",
       "0  1.826346  0.001440  0.373280 -1.309386 -0.035280 -0.859192 -0.780875   \n",
       "1 -1.408343  1.018007  0.104814 -1.235488  0.470146 -1.226858  0.880965   \n",
       "2  1.514312 -0.496086 -0.426022  0.796046  0.601807 -0.273631  0.413537   \n",
       "3 -1.697201 -1.116177 -0.717212  0.726585  0.396509  0.496145  0.132718   \n",
       "4  0.232370  0.396964  0.240554  0.488633 -1.516932  1.679975 -0.567923   \n",
       "\n",
       "        PC8  Label  \n",
       "0 -1.732532      1  \n",
       "1  0.884619      0  \n",
       "2 -0.480689      1  \n",
       "3  0.151128      2  \n",
       "4  0.353730      2  "
      ]
     },
     "execution_count": 46,
     "metadata": {},
     "output_type": "execute_result"
    }
   ],
   "source": [
    "#Joining the label datafrome to the pca_df dataframe\n",
    "\n",
    "kmeans_df = pca_df.join(label)\n",
    "kmeans_df.head()"
   ]
  },
  {
   "cell_type": "code",
   "execution_count": 48,
   "id": "6847ac77-05d6-4b2b-b012-7e8473e6efac",
   "metadata": {},
   "outputs": [
    {
     "data": {
      "text/plain": [
       "Label\n",
       "1    916\n",
       "2    844\n",
       "0    480\n",
       "Name: count, dtype: int64"
      ]
     },
     "execution_count": 48,
     "metadata": {},
     "output_type": "execute_result"
    }
   ],
   "source": [
    "kmeans_df['Label'].value_counts()"
   ]
  },
  {
   "cell_type": "code",
   "execution_count": 51,
   "id": "fcac0191-535e-4875-a0d8-9e04424e2873",
   "metadata": {},
   "outputs": [
    {
     "data": {
      "image/png": "[encoded data removed]",
      "text/plain": [
       "<Figure size 640x480 with 1 Axes>"
      ]
     },
     "metadata": {},
     "output_type": "display_data"
    }
   ],
   "source": [
    "sns.scatterplot(x='PC1', y='PC2', hue='Label', data=kmeans_df)\n",
    "plt.title('Clusters visualization')\n",
    "plt.xlabel('Principal Component 1')\n",
    "plt.ylabel('Principal Component 2')\n",
    "plt.show()"
   ]
  },
  {
   "cell_type": "markdown",
   "id": "d8463aed",
   "metadata": {
    "id": "d8463aed"
   },
   "source": [
    "### 17. Apply Agglomerative clustering and segment the data (Use Original data for clustering), and perform cluster analysis by doing bivariate analysis between the cluster label and different features and write your observations."
   ]
  },
  {
   "cell_type": "markdown",
   "id": "46f4de0f-0a4e-4405-84df-1b367dbea0c4",
   "metadata": {},
   "source": [
    "# Agglomerative clustering using the original data"
   ]
  },
  {
   "cell_type": "code",
   "execution_count": 56,
   "id": "b5ca165b",
   "metadata": {
    "id": "b5ca165b"
   },
   "outputs": [
    {
     "data": {
      "image/png": "[encoded data removed]",
      "text/plain": [
       "<Figure size 1800x500 with 1 Axes>"
      ]
     },
     "metadata": {},
     "output_type": "display_data"
    }
   ],
   "source": [
    "plt.figure(figsize=[18,5])\n",
    "\n",
    "merg = linkage(df_standardized, method ='ward')\n",
    "dendrogram(merg, leaf_rotation=90,)\n",
    "plt.xlabel('Datapoints')\n",
    "plt.ylabel('Euclidean distance')\n",
    "plt.show()"
   ]
  },
  {
   "cell_type": "markdown",
   "id": "1632371c-6e3a-410c-b28d-712b9079ad6f",
   "metadata": {},
   "source": [
    "# computing sihoutte score for agglomerative clustering"
   ]
  },
  {
   "cell_type": "code",
   "execution_count": 58,
   "id": "71cf1e38-46fe-448e-b63d-4319441907f4",
   "metadata": {},
   "outputs": [],
   "source": [
    "from sklearn.metrics import silhouette_score"
   ]
  },
  {
   "cell_type": "code",
   "execution_count": 62,
   "id": "5c2f0752-ceef-4f4b-85a5-5ef23450b21e",
   "metadata": {},
   "outputs": [
    {
     "name": "stdout",
     "output_type": "stream",
     "text": [
      "2 0.20718590277866128\n",
      "3 0.2165807208502883\n",
      "4 0.1552700279143774\n",
      "5 0.14257033530592866\n",
      "6 0.12424457363369379\n",
      "7 0.12361607731909144\n",
      "8 0.1255013151625035\n",
      "9 0.12897385031494682\n",
      "10 0.13643953679655546\n",
      "11 0.1329706759718113\n",
      "12 0.12534933274283344\n",
      "13 0.11959547721463011\n",
      "14 0.1186435836090777\n"
     ]
    }
   ],
   "source": [
    "for i in range(2, 15):\n",
    "    hier = AgglomerativeClustering(n_clusters=i)\n",
    "    hier = hier.fit(df_standardized)\n",
    "    labels = hier.fit_predict(df_standardized)\n",
    "    print(i, silhouette_score(df_standardized, labels))"
   ]
  },
  {
   "cell_type": "markdown",
   "id": "1ce1c360-74f2-437d-b74a-ef74731e9787",
   "metadata": {},
   "source": [
    "we can observe from the above dendrogram and as well as the silhoutte scores for different clusters, The highest silhoutte score is for cluster 3.\n",
    "Lets choose K=3 as the optimal clsuter size and build a agglomerative clustering model using the original scaled dataset."
   ]
  },
  {
   "cell_type": "code",
   "execution_count": 63,
   "id": "08d94440-3df9-4d26-b4a8-a80492ed6e8d",
   "metadata": {},
   "outputs": [],
   "source": [
    "hie_cluster = AgglomerativeClustering(n_clusters=3, affinity = 'euclidean', linkage='ward')\n",
    "\n",
    "hie_cluster_model = hie_cluster.fit(df_standardized)"
   ]
  },
  {
   "cell_type": "code",
   "execution_count": 64,
   "id": "53d7c76d-b6ef-44b4-867c-0350e78fa23f",
   "metadata": {},
   "outputs": [
    {
     "data": {
      "text/html": [
       "<div>\n",
       "<style scoped>\n",
       "    .dataframe tbody tr th:only-of-type {\n",
       "        vertical-align: middle;\n",
       "    }\n",
       "\n",
       "    .dataframe tbody tr th {\n",
       "        vertical-align: top;\n",
       "    }\n",
       "\n",
       "    .dataframe thead th {\n",
       "        text-align: right;\n",
       "    }\n",
       "</style>\n",
       "<table border=\"1\" class=\"dataframe\">\n",
       "  <thead>\n",
       "    <tr style=\"text-align: right;\">\n",
       "      <th></th>\n",
       "      <th>Labels</th>\n",
       "    </tr>\n",
       "  </thead>\n",
       "  <tbody>\n",
       "    <tr>\n",
       "      <th>0</th>\n",
       "      <td>0</td>\n",
       "    </tr>\n",
       "    <tr>\n",
       "      <th>1</th>\n",
       "      <td>1</td>\n",
       "    </tr>\n",
       "    <tr>\n",
       "      <th>2</th>\n",
       "      <td>0</td>\n",
       "    </tr>\n",
       "    <tr>\n",
       "      <th>3</th>\n",
       "      <td>1</td>\n",
       "    </tr>\n",
       "    <tr>\n",
       "      <th>4</th>\n",
       "      <td>0</td>\n",
       "    </tr>\n",
       "  </tbody>\n",
       "</table>\n",
       "</div>"
      ],
      "text/plain": [
       "   Labels\n",
       "0       0\n",
       "1       1\n",
       "2       0\n",
       "3       1\n",
       "4       0"
      ]
     },
     "execution_count": 64,
     "metadata": {},
     "output_type": "execute_result"
    }
   ],
   "source": [
    "# creating a dataframe of the labels\n",
    "df_label1 = pd.DataFrame(hie_cluster_model.labels_, columns=['Labels'])\n",
    "df_label1.head(5)"
   ]
  },
  {
   "cell_type": "markdown",
   "id": "797a5ecd",
   "metadata": {
    "id": "797a5ecd"
   },
   "source": [
    "### Visualization and Interpretation of results"
   ]
  },
  {
   "cell_type": "markdown",
   "id": "b6ccd9b3-329b-41bc-9951-d5cbc153bdbd",
   "metadata": {
    "id": "d1e75760"
   },
   "source": [
    "## KMeans Clustering Visualization and Interpretation\n",
    "# Interpretation:\n",
    "The scatter plot shows how the data points are distributed among different clusters in the reduced 2D PCA space.\n",
    "Each color represents a different cluster.\n",
    "The separation between clusters indicates how distinct they are from each other.\n",
    "\n",
    "## Agglomerative Clustering Visualization and Interpretation\n",
    "\n",
    "# Interpretation:\n",
    "The dendrogram shows the hierarchical merging of clusters.\n",
    "The height at which two clusters are joined represents the distance between them.\n",
    "Cutting the dendrogram at different heights results in different numbers of clusters.\n",
    "\n",
    "## Bivariate Analysis and Interpretation\n",
    "\n",
    "# Interpretation:\n",
    "Boxplots will help in understanding the distribution of each feature within different clusters.\n",
    "The central tendency (median) and spread (IQR) for each feature can be observed.\n",
    "This can help identify which features distinguish the clusters"
   ]
  },
  {
   "cell_type": "markdown",
   "id": "36afd95b",
   "metadata": {
    "id": "36afd95b"
   },
   "source": [
    "-----\n",
    "## Happy Learning\n",
    "-----"
   ]
  },
  {
   "cell_type": "code",
   "execution_count": null,
   "id": "0ade3c93-3a54-4499-ae2e-6d326d5f0b12",
   "metadata": {},
   "outputs": [],
   "source": []
  }
 ],
 "metadata": {
  "colab": {
   "collapsed_sections": [
    "36afd95b"
   ],
   "name": "Unsupervised Learning - Lab session.ipynb",
   "provenance": []
  },
  "kernelspec": {
   "display_name": "Python 3 (ipykernel)",
   "language": "python",
   "name": "python3"
  },
  "language_info": {
   "codemirror_mode": {
    "name": "ipython",
    "version": 3
   },
   "file_extension": ".py",
   "mimetype": "text/x-python",
   "name": "python",
   "nbconvert_exporter": "python",
   "pygments_lexer": "ipython3",
   "version": "3.11.5"
  }
 },
 "nbformat": 4,
 "nbformat_minor": 5
}
